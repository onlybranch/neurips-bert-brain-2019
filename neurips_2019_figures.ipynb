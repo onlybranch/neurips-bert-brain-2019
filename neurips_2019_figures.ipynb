{
 "cells": [
  {
   "cell_type": "code",
   "execution_count": 1,
   "metadata": {},
   "outputs": [
    {
     "name": "stdout",
     "output_type": "stream",
     "text": [
      "Better speed can be achieved with apex installed from https://www.github.com/nvidia/apex.\n"
     ]
    }
   ],
   "source": [
    "import sys\n",
    "import os\n",
    "sys.path.append('/usr0/home/drschwar/src/bert_brain/')\n",
    "from collections import OrderedDict\n",
    "from functools import partial\n",
    "\n",
    "from tqdm.auto import trange, tqdm\n",
    "\n",
    "import numpy as np\n",
    "\n",
    "from bert_brain_paths import Paths\n",
    "from bert_brain import get_mask_for_subject, named_variations, task_hash, match_variation, TrainingVariation, \\\n",
    "    LoadFrom, sentence_predictions, query_results, ResultQuery, fdr_correction, ResultPValues, get_k_vs_k_paired, \\\n",
    "    get_mse_paired\n",
    "%matplotlib inline\n",
    "from matplotlib import pyplot as plt\n",
    "\n",
    "import cortex\n",
    "\n",
    "def make_volume(data, subject, mask=None, **kwargs):\n",
    "    if mask is None:\n",
    "        mask = get_mask_for_subject(subject)\n",
    "    if subject in ['H', 'K', 'L']:\n",
    "        xfmname = '{}_ars_auto2'.format(subject)\n",
    "    else:\n",
    "        xfmname = '{}_ars'.format(subject)\n",
    "    return cortex.Volume(data, 'fMRI_story_{}'.format(subject), xfmname, mask=mask, **kwargs)\n",
    "\n",
    "paths = Paths()"
   ]
  },
  {
   "cell_type": "code",
   "execution_count": 11,
   "metadata": {
    "scrolled": false
   },
   "outputs": [
    {
     "data": {
      "application/vnd.jupyter.widget-view+json": {
       "model_id": "af6c529c947445529aa0e8929aaaad51",
       "version_major": 2,
       "version_minor": 0
      },
      "text/plain": [
       "HBox(children=(IntProgress(value=0, max=9), HTML(value='')))"
      ]
     },
     "metadata": {},
     "output_type": "display_data"
    },
    {
     "name": "stdout",
     "output_type": "stream",
     "text": [
      "\n"
     ]
    }
   ],
   "source": [
    "result_queries = list()\n",
    "subjects = ['F', 'G', 'H', 'I', 'J', 'K', 'L', 'M', 'N']    \n",
    "\n",
    "\"\"\"\n",
    "Note: the variation-set names are a little confusing below. They are a legacy of some earlier experiments.\n",
    "The labels are better descriptors of what these are actually comparing. The left-side of the label \n",
    "(i.e. before the vs.) describes variation a, and the right side describes variation b\n",
    "\n",
    "Reading the outputs and doing the computations takes a little while, so we picke the results, and then unpickle\n",
    "for plotting.\n",
    "\"\"\"\n",
    "\n",
    "# Joint everything vs. linear vanilla\n",
    "# label = 'joint_everything_vs_vanilla'\n",
    "# variation_set_name_a = 'hp_fmri_meg_joint'\n",
    "# fmri_subjects_ = ['F', 'G', 'H', 'I', 'J', 'K', 'L', 'M', 'N']\n",
    "# fmri_tasks_ = tuple('hp_fmri_{}'.format(s) for s in fmri_subjects_)\n",
    "# training_variation_a_fmt = str(fmri_tasks_ + ('hp_meg',))\n",
    "# variation_set_name_b = 'hp_meg_simple_fmri_linear'\n",
    "# training_variation_b_fmt = '(\\'hp_fmri_{subject}\\',)'\n",
    "\n",
    "# fine-tuned vs. linear vanilla\n",
    "# label = 'fine_tuned_vs_vanilla'\n",
    "# variation_set_name_a = 'hp_meg_simple_fmri'\n",
    "# training_variation_a_fmt = '(\\'hp_fmri_{subject}\\',)'\n",
    "# variation_set_name_b = 'hp_HKL_from_I'\n",
    "# training_variation_b_fmt = '(\\'hp_fmri_{subject}\\',)'\n",
    "\n",
    "# Linear from I vs. linear vanilla:\n",
    "# label = 'from_I_vs_vanilla'\n",
    "# variation_set_name_a = 'hp_HKL_from_I'\n",
    "# training_variation_a_fmt = '(\\'hp_fmri_{subject}\\',).hp_fmri_20:(\\'hp_fmri_I\\',)'\n",
    "# variation_set_name_b = 'hp_HKL_from_I'\n",
    "# training_variation_b_fmt = '(\\'hp_fmri_{subject}\\',)'\n",
    "\n",
    "# MEG to fMRI vs. fMRI\n",
    "label = 'MEG_to_fMRI_vs_fMRI'\n",
    "variation_set_name_a = 'hp_meg_simple_fmri'\n",
    "training_variation_a_fmt = '(\\'hp_fmri_{subject}\\',).hp_meg:(\\'hp_meg\\',)'\n",
    "variation_set_name_b = 'hp_meg_simple_fmri'\n",
    "training_variation_b_fmt = '(\\'hp_fmri_{subject}\\',)'\n",
    "\n",
    "# MEG to fMRI vs. vanilla\n",
    "# label = 'MEG_to_fMRI_vs_vanilla'\n",
    "# variation_set_name_a = 'hp_meg_simple_fmri'\n",
    "# training_variation_a_fmt = '(\\'hp_fmri_{subject}\\',).hp_fmri_meg:(\\'hp_meg\\',)'\n",
    "# variation_set_name_b = 'hp_meg_simple_fmri_linear'\n",
    "# training_variation_b_fmt = '(\\'hp_fmri_{subject}\\',)'\n",
    "        \n",
    "# results = list()\n",
    "\n",
    "# for idx_subject, subject in enumerate(tqdm(subjects)):\n",
    "#     a_accuracy, b_accuracy = get_k_vs_k_paired(\n",
    "#         paths,\n",
    "#         variation_set_name_a, \n",
    "#         training_variation_a_fmt.format(subject=subject), \n",
    "#         variation_set_name_b, \n",
    "#         training_variation_b_fmt.format(subject=subject), \n",
    "#         'hp_fmri_{}'.format(subject),\n",
    "#         k=20, \n",
    "#         num_samples=1000,\n",
    "#         mean_within_run=True)\n",
    "    \n",
    "#     results.append(ResultPValues(label, subject, a_accuracy, b_accuracy))\n",
    "\n",
    "results = list()\n",
    "\n",
    "for idx_subject, subject in enumerate(tqdm(subjects)):\n",
    "    mse_a, pove_a, mse_b, pove_b = get_mse_paired(\n",
    "        paths,\n",
    "        variation_set_name_a,\n",
    "        training_variation_a_fmt.format(subject=subject), \n",
    "        variation_set_name_b, \n",
    "        training_variation_b_fmt.format(subject=subject), \n",
    "        'hp_fmri_{}'.format(subject))\n",
    "    \n",
    "    results.append(ResultPValues(label, subject, pove_a, pove_b))\n",
    "\n",
    "import pickle\n",
    "with open('pove_plot_info_{}.bin'.format(label), 'wb') as f:\n",
    "    pickle.dump(results, f)"
   ]
  },
  {
   "cell_type": "code",
   "execution_count": 12,
   "metadata": {},
   "outputs": [],
   "source": [
    "label = 'MEG_to_fMRI_vs_fMRI'\n",
    "# label = 'from_I_vs_vanilla'\n",
    "# label = 'fine_tuned_vs_vanilla'\n",
    "# label = 'joint_everything_vs_vanilla'\n",
    "import pickle\n",
    "with open('pove_plot_info_{}.bin'.format(label), 'rb') as f:\n",
    "    result = pickle.load(f)"
   ]
  },
  {
   "cell_type": "code",
   "execution_count": 4,
   "metadata": {},
   "outputs": [
    {
     "name": "stdout",
     "output_type": "stream",
     "text": [
      "Started server on port 5300\n"
     ]
    },
    {
     "data": {
      "text/html": [
       "Open viewer: <a href=\"http://gpu2.learning.cs.cmu.edu:5300/mixer.html\" target=\"_blank\">http://gpu2.learning.cs.cmu.edu:5300/mixer.html</a>"
      ],
      "text/plain": [
       "<IPython.core.display.HTML object>"
      ]
     },
     "metadata": {},
     "output_type": "display_data"
    },
    {
     "data": {
      "text/plain": [
       "<WebApp(Thread-4, started 140496081680128)>"
      ]
     },
     "execution_count": 4,
     "metadata": {},
     "output_type": "execute_result"
    },
    {
     "name": "stdout",
     "output_type": "stream",
     "text": [
      "Stopping server\n"
     ]
    }
   ],
   "source": [
    "# brain plots of a single training procedure (not a comparison), using a one-sample t-test mask\n",
    "def add_single(volume_dict, label, subject, means, p_values=None):\n",
    "    if p_values is not None:\n",
    "        mask, _ = fdr_correction(p_values, alpha=0.01, method='bh')\n",
    "        means = np.where(mask, means, np.nan)\n",
    "    vmin = np.nanquantile(means, 0.05) \n",
    "    vmax = np.nanquantile(means, 0.95)\n",
    "    volume_dict['{}:{}'.format(label, subject)] = make_volume(means, subject, cmap='viridis', vmin=vmin, vmax=vmax)\n",
    "    volume_dict['{}:{}, stat-sig'.format(label, subject)] = make_volume(mask, subject, cmap='viridis')\n",
    "\n",
    "volume_dict = dict()\n",
    "for r in result:\n",
    "    a_label, b_label = r.label.split('_vs_')\n",
    "    add_single(volume_dict, a_label, r.subject, r.a_mean, r.a_ttest_1samp_p_values)\n",
    "    add_single(volume_dict, b_label, r.subject, r.b_mean, r.b_ttest_1samp_p_values)\n",
    "    \n",
    "cortex.webshow(volume_dict, open_browser=False)"
   ]
  },
  {
   "cell_type": "code",
   "execution_count": 7,
   "metadata": {},
   "outputs": [
    {
     "name": "stdout",
     "output_type": "stream",
     "text": [
      "Started server on port 42566\n"
     ]
    },
    {
     "data": {
      "text/html": [
       "Open viewer: <a href=\"http://gpu2.learning.cs.cmu.edu:42566/mixer.html\" target=\"_blank\">http://gpu2.learning.cs.cmu.edu:42566/mixer.html</a>"
      ],
      "text/plain": [
       "<IPython.core.display.HTML object>"
      ]
     },
     "metadata": {},
     "output_type": "display_data"
    },
    {
     "data": {
      "text/plain": [
       "<WebApp(Thread-5, started 140496081680128)>"
      ]
     },
     "execution_count": 7,
     "metadata": {},
     "output_type": "execute_result"
    },
    {
     "name": "stdout",
     "output_type": "stream",
     "text": [
      "Stopping server\n"
     ]
    }
   ],
   "source": [
    "def add_pair(volume_dict, label, subject, a_means, b_means, p_values=None, add_indiv=True):\n",
    "    if p_values is not None:\n",
    "        mask, _ = fdr_correction(p_values, alpha=0.01, method='bh')\n",
    "        a_means = np.where(mask, a_means, np.nan)\n",
    "        b_means = np.where(mask, b_means, np.nan)\n",
    "    if add_indiv:\n",
    "        vmin = min(np.nanquantile(a_means, 0.05), np.nanquantile(b_means, 0.05))\n",
    "        vmax = max(np.nanquantile(a_means, 0.95), np.nanquantile(b_means, 0.95))\n",
    "        volume_dict['{}:{}, a'.format(label, subject)] = make_volume(\n",
    "            a_means, subject, cmap='viridis', vmin=vmin, vmax=vmax)\n",
    "        volume_dict['{}:{}, b'.format(label, subject)] = make_volume(\n",
    "            b_means, subject, cmap='viridis', vmin=vmin, vmax=vmax)\n",
    "    volume_dict['{}:{}, stat-sig'.format(label, subject)] = make_volume(mask, subject, cmap='viridis')\n",
    "    masked_diff = np.where(mask, a_means - b_means, np.nan)\n",
    "    vmax = np.nanquantile(np.abs(masked_diff), 0.95)\n",
    "    vmin = -vmax\n",
    "    volume_dict['{}:{}, difference'.format(label, subject)] = make_volume(\n",
    "        masked_diff, subject, cmap='bwr', vmin=vmin, vmax=vmax)\n",
    "\n",
    "volume_dict = dict()\n",
    "for r in result:\n",
    "    add_pair(volume_dict, r.label, r.subject, r.a_mean, r.b_mean, r.ttest_rel_p_values)\n",
    "cortex.webshow(volume_dict, open_browser=False)\n"
   ]
  },
  {
   "cell_type": "code",
   "execution_count": 13,
   "metadata": {
    "scrolled": false
   },
   "outputs": [
    {
     "data": {
      "image/png": "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