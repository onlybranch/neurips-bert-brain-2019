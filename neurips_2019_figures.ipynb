{
 "cells": [
  {
   "cell_type": "code",
   "execution_count": 1,
   "metadata": {},
   "outputs": [
    {
     "name": "stdout",
     "output_type": "stream",
     "text": [
      "Better speed can be achieved with apex installed from https://www.github.com/nvidia/apex.\n"
     ]
    }
   ],
   "source": [
    "import sys\n",
    "import os\n",
    "sys.path.append('/usr0/home/drschwar/src/bert_brain/')\n",
    "from collections import OrderedDict\n",
    "from functools import partial\n",
    "\n",
    "from tqdm.auto import trange, tqdm\n",
    "\n",
    "import numpy as np\n",
    "\n",
    "from bert_brain_paths import Paths\n",
    "from bert_brain import get_mask_for_subject, named_variations, task_hash, match_variation, TrainingVariation, \\\n",
    "    LoadFrom, sentence_predictions, query_results, ResultQuery, fdr_correction, ResultPValues, get_k_vs_k_paired, \\\n",
    "    get_mse_paired\n",
    "%matplotlib inline\n",
    "from matplotlib import pyplot as plt\n",
    "\n",
    "import cortex\n",
    "\n",
    "def make_volume(data, subject, mask=None, **kwargs):\n",
    "    if mask is None:\n",
    "        mask = get_mask_for_subject(subject)\n",
    "    if subject in ['H', 'K', 'L']:\n",
    "        xfmname = '{}_ars_auto2'.format(subject)\n",
    "    else:\n",
    "        xfmname = '{}_ars'.format(subject)\n",
    "    return cortex.Volume(data, 'fMRI_story_{}'.format(subject), xfmname, mask=mask, **kwargs)\n",
    "\n",
    "paths = Paths()"
   ]
  },
  {
   "cell_type": "code",
   "execution_count": 11,
   "metadata": {
    "scrolled": false
   },
   "outputs": [
    {
     "data": {
      "application/vnd.jupyter.widget-view+json": {
       "model_id": "af6c529c947445529aa0e8929aaaad51",
       "version_major": 2,
       "version_minor": 0
      },
      "text/plain": [
       "HBox(children=(IntProgress(value=0, max=9), HTML(value='')))"
      ]
     },
     "metadata": {},
     "output_type": "display_data"
    },
    {
     "name": "stdout",
     "output_type": "stream",
     "text": [
      "\n"
     ]
    }
   ],
   "source": [
    "result_queries = list()\n",
    "subjects = ['F', 'G', 'H', 'I', 'J', 'K', 'L', 'M', 'N']    \n",
    "\n",
    "\"\"\"\n",
    "Note: the variation-set names are a little confusing below. They are a legacy of some earlier experiments.\n",
    "The labels are better descriptors of what these are actually comparing. The left-side of the label \n",
    "(i.e. before the vs.) describes variation a, and the right side describes variation b\n",
    "\n",
    "Reading the outputs and doing the computations takes a little while, so we picke the results, and then unpickle\n",
    "for plotting.\n",
    "\"\"\"\n",
    "\n",
    "# Joint everything vs. linear vanilla\n",
    "# label = 'joint_everything_vs_vanilla'\n",
    "# variation_set_name_a = 'hp_fmri_meg_joint'\n",
    "# fmri_subjects_ = ['F', 'G', 'H', 'I', 'J', 'K', 'L', 'M', 'N']\n",
    "# fmri_tasks_ = tuple('hp_fmri_{}'.format(s) for s in fmri_subjects_)\n",
    "# training_variation_a_fmt = str(fmri_tasks_ + ('hp_meg',))\n",
    "# variation_set_name_b = 'hp_meg_simple_fmri_linear'\n",
    "# training_variation_b_fmt = '(\\'hp_fmri_{subject}\\',)'\n",
    "\n",
    "# fine-tuned vs. linear vanilla\n",
    "# label = 'fine_tuned_vs_vanilla'\n",
    "# variation_set_name_a = 'hp_meg_simple_fmri'\n",
    "# training_variation_a_fmt = '(\\'hp_fmri_{subject}\\',)'\n",
    "# variation_set_name_b = 'hp_HKL_from_I'\n",
    "# training_variation_b_fmt = '(\\'hp_fmri_{subject}\\',)'\n",
    "\n",
    "# Linear from I vs. linear vanilla:\n",
    "# label = 'from_I_vs_vanilla'\n",
    "# variation_set_name_a = 'hp_HKL_from_I'\n",
    "# training_variation_a_fmt = '(\\'hp_fmri_{subject}\\',).hp_fmri_20:(\\'hp_fmri_I\\',)'\n",
    "# variation_set_name_b = 'hp_HKL_from_I'\n",
    "# training_variation_b_fmt = '(\\'hp_fmri_{subject}\\',)'\n",
    "\n",
    "# MEG to fMRI vs. fMRI\n",
    "label = 'MEG_to_fMRI_vs_fMRI'\n",
    "variation_set_name_a = 'hp_meg_simple_fmri'\n",
    "training_variation_a_fmt = '(\\'hp_fmri_{subject}\\',).hp_meg:(\\'hp_meg\\',)'\n",
    "variation_set_name_b = 'hp_meg_simple_fmri'\n",
    "training_variation_b_fmt = '(\\'hp_fmri_{subject}\\',)'\n",
    "\n",
    "# MEG to fMRI vs. vanilla\n",
    "# label = 'MEG_to_fMRI_vs_vanilla'\n",
    "# variation_set_name_a = 'hp_meg_simple_fmri'\n",
    "# training_variation_a_fmt = '(\\'hp_fmri_{subject}\\',).hp_fmri_meg:(\\'hp_meg\\',)'\n",
    "# variation_set_name_b = 'hp_meg_simple_fmri_linear'\n",
    "# training_variation_b_fmt = '(\\'hp_fmri_{subject}\\',)'\n",
    "        \n",
    "# results = list()\n",
    "\n",
    "# for idx_subject, subject in enumerate(tqdm(subjects)):\n",
    "#     a_accuracy, b_accuracy = get_k_vs_k_paired(\n",
    "#         paths,\n",
    "#         variation_set_name_a, \n",
    "#         training_variation_a_fmt.format(subject=subject), \n",
    "#         variation_set_name_b, \n",
    "#         training_variation_b_fmt.format(subject=subject), \n",
    "#         'hp_fmri_{}'.format(subject),\n",
    "#         k=20, \n",
    "#         num_samples=1000,\n",
    "#         mean_within_run=True)\n",
    "    \n",
    "#     results.append(ResultPValues(label, subject, a_accuracy, b_accuracy))\n",
    "\n",
    "results = list()\n",
    "\n",
    "for idx_subject, subject in enumerate(tqdm(subjects)):\n",
    "    mse_a, pove_a, mse_b, pove_b = get_mse_paired(\n",
    "        paths,\n",
    "        variation_set_name_a,\n",
    "        training_variation_a_fmt.format(subject=subject), \n",
    "        variation_set_name_b, \n",
    "        training_variation_b_fmt.format(subject=subject), \n",
    "        'hp_fmri_{}'.format(subject))\n",
    "    \n",
    "    results.append(ResultPValues(label, subject, pove_a, pove_b))\n",
    "\n",
    "import pickle\n",
    "with open('pove_plot_info_{}.bin'.format(label), 'wb') as f:\n",
    "    pickle.dump(results, f)"
   ]
  },
  {
   "cell_type": "code",
   "execution_count": 12,
   "metadata": {},
   "outputs": [],
   "source": [
    "label = 'MEG_to_fMRI_vs_fMRI'\n",
    "# label = 'from_I_vs_vanilla'\n",
    "# label = 'fine_tuned_vs_vanilla'\n",
    "# label = 'joint_everything_vs_vanilla'\n",
    "import pickle\n",
    "with open('pove_plot_info_{}.bin'.format(label), 'rb') as f:\n",
    "    result = pickle.load(f)"
   ]
  },
  {
   "cell_type": "code",
   "execution_count": 4,
   "metadata": {},
   "outputs": [
    {
     "name": "stdout",
     "output_type": "stream",
     "text": [
      "Started server on port 5300\n"
     ]
    },
    {
     "data": {
      "text/html": [
       "Open viewer: <a href=\"http://gpu2.learning.cs.cmu.edu:5300/mixer.html\" target=\"_blank\">http://gpu2.learning.cs.cmu.edu:5300/mixer.html</a>"
      ],
      "text/plain": [
       "<IPython.core.display.HTML object>"
      ]
     },
     "metadata": {},
     "output_type": "display_data"
    },
    {
     "data": {
      "text/plain": [
       "<WebApp(Thread-4, started 140496081680128)>"
      ]
     },
     "execution_count": 4,
     "metadata": {},
     "output_type": "execute_result"
    },
    {
     "name": "stdout",
     "output_type": "stream",
     "text": [
      "Stopping server\n"
     ]
    }
   ],
   "source": [
    "# brain plots of a single training procedure (not a comparison), using a one-sample t-test mask\n",
    "def add_single(volume_dict, label, subject, means, p_values=None):\n",
    "    if p_values is not None:\n",
    "        mask, _ = fdr_correction(p_values, alpha=0.01, method='bh')\n",
    "        means = np.where(mask, means, np.nan)\n",
    "    vmin = np.nanquantile(means, 0.05) \n",
    "    vmax = np.nanquantile(means, 0.95)\n",
    "    volume_dict['{}:{}'.format(label, subject)] = make_volume(means, subject, cmap='viridis', vmin=vmin, vmax=vmax)\n",
    "    volume_dict['{}:{}, stat-sig'.format(label, subject)] = make_volume(mask, subject, cmap='viridis')\n",
    "\n",
    "volume_dict = dict()\n",
    "for r in result:\n",
    "    a_label, b_label = r.label.split('_vs_')\n",
    "    add_single(volume_dict, a_label, r.subject, r.a_mean, r.a_ttest_1samp_p_values)\n",
    "    add_single(volume_dict, b_label, r.subject, r.b_mean, r.b_ttest_1samp_p_values)\n",
    "    \n",
    "cortex.webshow(volume_dict, open_browser=False)"
   ]
  },
  {
   "cell_type": "code",
   "execution_count": 7,
   "metadata": {},
   "outputs": [
    {
     "name": "stdout",
     "output_type": "stream",
     "text": [
      "Started server on port 42566\n"
     ]
    },
    {
     "data": {
      "text/html": [
       "Open viewer: <a href=\"http://gpu2.learning.cs.cmu.edu:42566/mixer.html\" target=\"_blank\">http://gpu2.learning.cs.cmu.edu:42566/mixer.html</a>"
      ],
      "text/plain": [
       "<IPython.core.display.HTML object>"
      ]
     },
     "metadata": {},
     "output_type": "display_data"
    },
    {
     "data": {
      "text/plain": [
       "<WebApp(Thread-5, started 140496081680128)>"
      ]
     },
     "execution_count": 7,
     "metadata": {},
     "output_type": "execute_result"
    },
    {
     "name": "stdout",
     "output_type": "stream",
     "text": [
      "Stopping server\n"
     ]
    }
   ],
   "source": [
    "def add_pair(volume_dict, label, subject, a_means, b_means, p_values=None, add_indiv=True):\n",
    "    if p_values is not None:\n",
    "        mask, _ = fdr_correction(p_values, alpha=0.01, method='bh')\n",
    "        a_means = np.where(mask, a_means, np.nan)\n",
    "        b_means = np.where(mask, b_means, np.nan)\n",
    "    if add_indiv:\n",
    "        vmin = min(np.nanquantile(a_means, 0.05), np.nanquantile(b_means, 0.05))\n",
    "        vmax = max(np.nanquantile(a_means, 0.95), np.nanquantile(b_means, 0.95))\n",
    "        volume_dict['{}:{}, a'.format(label, subject)] = make_volume(\n",
    "            a_means, subject, cmap='viridis', vmin=vmin, vmax=vmax)\n",
    "        volume_dict['{}:{}, b'.format(label, subject)] = make_volume(\n",
    "            b_means, subject, cmap='viridis', vmin=vmin, vmax=vmax)\n",
    "    volume_dict['{}:{}, stat-sig'.format(label, subject)] = make_volume(mask, subject, cmap='viridis')\n",
    "    masked_diff = np.where(mask, a_means - b_means, np.nan)\n",
    "    vmax = np.nanquantile(np.abs(masked_diff), 0.95)\n",
    "    vmin = -vmax\n",
    "    volume_dict['{}:{}, difference'.format(label, subject)] = make_volume(\n",
    "        masked_diff, subject, cmap='bwr', vmin=vmin, vmax=vmax)\n",
    "\n",
    "volume_dict = dict()\n",
    "for r in result:\n",
    "    add_pair(volume_dict, r.label, r.subject, r.a_mean, r.b_mean, r.ttest_rel_p_values)\n",
    "cortex.webshow(volume_dict, open_browser=False)\n"
   ]
  },
  {
   "cell_type": "code",
   "execution_count": 13,
   "metadata": {
    "scrolled": false
   },
   "outputs": [
    {
     "data": {
      "image/png": "iVBORw0KGgoAAAANSUhEUgAAA3IAAAMfCAYAAACTveVlAAAABHNCSVQICAgIfAhkiAAAAAlwSFlzAAAbrgAAG64BjF1z+AAAADh0RVh0U29mdHdhcmUAbWF0cGxvdGxpYiB2ZXJzaW9uMy4xLjEsIGh0dHA6Ly9tYXRwbG90bGliLm9yZy8QZhcZAAAgAElEQVR4nOzdeZDc533n9/f31/3ru3vuA4P7FgXqvi