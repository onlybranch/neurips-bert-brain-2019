{
 "cells": [
  {
   "cell_type": "code",
   "execution_count": 1,
   "metadata": {},
   "outputs": [
    {
     "name": "stdout",
     "output_type": "stream",
     "text": [
      "Better speed can be achieved with apex installed from https://www.github.com/nvidia/apex.\n"
     ]
    }
   ],
   "source": [
    "import sys\n",
    "import os\n",
    "sys.path.append('/usr0/home/drschwar/src/bert_brain/')\n",
    "from collections import OrderedDict\n",
    "from functools import partial\n",
    "\n",
    "from tqdm.auto import trange, tqdm\n",
    "\n",
    "import numpy as np\n",
    "\n",
    "from bert_brain_paths import Paths\n",
    "from bert_brain import get_mask_for_subject, named_variations, task_hash, match_variation, TrainingVariation, \\\n",
    "    LoadFrom, sentence_predictions, query_results, ResultQuery, fdr_correction, ResultPValues, get_k_vs_k_paired, \\\n",
    "    get_mse_paired\n",
    "%matplotlib inline\n",
    "from matplotlib import pyplot as plt\n",
    "\n",
    "import cortex\n",
    "\n",
    "def make_volume(data, subject, mask=None, **kwargs):\n",
    "    if mask is None:\n",
    "        mask = get_mask_for_subject(subject)\n",
    "    if subject in ['H', 'K', 'L']:\n",
    "        xfmname = '{}_ars_auto2'.format(subject)\n",
    "    else:\n",
    "        xfmname = '{}_ars'.format