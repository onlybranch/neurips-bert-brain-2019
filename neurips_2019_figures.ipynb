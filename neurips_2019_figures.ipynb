{
 "cells": [
  {
   "cell_type": "code",
   "execution_count": 1,
   "metadata": {},
   "outputs": [
    {
     "name": "stdout",
     "output_type": "stream",
     "text": [
      "Better speed can be achieved with apex installed from https://www.github.com/nvidia/apex.\n"
     ]
    }
   ],
   "source": [
    "import sys\n",
    "import os\n",
    "sys.path.append('/usr0/home/drschwar/src/bert_brain/')\n",
    "from collections import OrderedDict\n",
    "from functools import partial\n",
    "\n",
    "from tqdm.auto import trange, tqdm\n",
    "\n",
    "import numpy as np\n",
    "\n",
    "from bert_brain_paths import Paths\n",
    "from bert_brain import get_mask_for_subject, named_variations, task_hash, match_variation, TrainingVariation, \\\n",
    "    LoadFrom, sentence_predictions, query_results, ResultQuery, fdr_correction, ResultPValues, get_k_vs_k_paired, \\\n",
    "    get_mse_paired\n",
    "%matplotlib inline\n",
    "from matplotlib import pyplot as plt\n",
    "\n",
    "import cortex\n",
    "\n",
    "def make_volume(data, subject, mask=None, **kwargs):\n",
    "    if mask is None:\n",
    "        mask = get_mask_for_subject(subject)\n",
    "    if subject in ['H', 'K', 'L']:\n",
    "        xfmname = '{}_ars_auto2'.format(subject)\n",
    "    else:\n",
    "        xfmname = '{}_ars'.format(subject)\n",
    "    return cortex.Volume(data, 'fMRI_story_{}'.format(subject), xfmname, mask=mask, **kwargs)\n",
    "\n",
    "paths = Paths()"
   ]
  },
  {
   "cell_type": "code",
   "execution_count": 11,
   "metadata": {
    "scrolled": false
   },
   "outputs": [
    {
     "data": {
      "application/vnd.jupyter.widget-view+json": {
       "model_id": "af6c529c947445529aa0e8929aaaad51",
       "version_major": 2,
       "version_minor": 0
      },
      "text/plain": [
       "HBox(children=(IntProgress(value=0, max=9), HTML(value='')))"
      ]
     },
     "metadata": {},
     "output_type": "display_data"
    },
    {
     "name": "stdout",
     "output_type": "stream",
     "text": [
      "\n"
     ]
    }
   ],
   "source": [
    "result_queries = list()\n",
    "subjects = ['F', 'G', 'H', 'I', 'J', 'K', 'L', 'M', 'N']    \n",
    "\n",
    "\"\"\"\n",
    "Note: the variation-set names are a little confusing below. They are a legacy of some earlier experiments.\n",
    "The labels are better descriptors of what these are actually comparing. The left-side of the label \n",
    "(i.e. before the vs.) describes variation a, and the right side describes variation b\n",
    "\n",
    "Reading the outputs and doing the computations takes a little while, so we picke the results, and then unpickle\n",
    "for plotting.\n",
    "\"\"\"\n",
    "\n",
    "# Joint everything vs. linear vanilla\n",
    "# label = 'joint_everything_vs_vanilla'\n",
    "# variation_set_name_a = 'hp_fmri_meg_joint'\n",
    "# fmri_subjects_ = ['F', 'G', 'H', 'I', 'J', 'K', 'L', 'M', 'N']\n",
    "# fmri_tasks_ = tuple('hp_fmri_{}'.format(s) for s in fmri_subjects_)\n",
    "# training_variation_a_fmt = str(fmri_tasks_ + ('hp_meg',))\n",
    "# variation_set_name_b = 'hp_meg_simple_fmri_linear'\n",
    "# training_variation_b_fmt = '(\\'hp_fmri_{subject}\\',)'\n",
    "\n",
    "# fine-tuned vs. linear vanilla\n",
    